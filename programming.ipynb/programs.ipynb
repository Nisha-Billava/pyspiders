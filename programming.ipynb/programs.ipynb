{
 "cells": [
  {
   "cell_type": "markdown",
   "metadata": {},
   "source": [
    "### pyramid"
   ]
  },
  {
   "cell_type": "code",
   "execution_count": 3,
   "metadata": {},
   "outputs": [
    {
     "name": "stdout",
     "output_type": "stream",
     "text": [
      "10 is not prime\n"
     ]
    }
   ],
   "source": [
    "def prime(n):\n",
    "    if n<2:\n",
    "        return False\n",
    "    elif n==2:\n",
    "            return True\n",
    "    else:\n",
    "            for i in range(2,n//2+1):\n",
    "               if n%i==0:\n",
    "                  return False\n",
    "               return True\n",
    "n=int(input(\"n:\"))\n",
    "if prime(n):\n",
    "    print(f\"{n} is prime\")   \n",
    "else:\n",
    "    print(f\"{n} is not prime\")            "
   ]
  },
  {
   "cell_type": "code",
   "execution_count": null,
   "metadata": {},
   "outputs": [],
   "source": []
  }
 ],
 "metadata": {
  "kernelspec": {
   "display_name": "Python 3",
   "language": "python",
   "name": "python3"
  },
  "language_info": {
   "codemirror_mode": {
    "name": "ipython",
    "version": 3
   },
   "file_extension": ".py",
   "mimetype": "text/x-python",
   "name": "python",
   "nbconvert_exporter": "python",
   "pygments_lexer": "ipython3",
   "version": "3.12.4"
  }
 },
 "nbformat": 4,
 "nbformat_minor": 2
}
