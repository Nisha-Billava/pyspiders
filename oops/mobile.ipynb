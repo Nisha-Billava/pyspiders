{
 "cells": [
  {
   "cell_type": "code",
   "execution_count": null,
   "metadata": {},
   "outputs": [
    {
     "name": "stdout",
     "output_type": "stream",
     "text": [
      "Your action consuming battery\n"
     ]
    }
   ],
   "source": [
    "class battery:\n",
    "    def __init__(self,capacity):\n",
    "        self.capacity=capacity\n",
    "\n",
    "    def charging(self):\n",
    "        print(\"Device is charging\")\n",
    "\n",
    "    def discharging(self):\n",
    "        print(\"Your action consuming battery\")\n",
    "\n",
    "class mobile:\n",
    "    def __init__(self,name,price,color,capacity):\n",
    "        self.name=name\n",
    "        self.price=price\n",
    "        self.color=color\n",
    "        self.capacity=capacity\n",
    "        self.b1=battery(capacity)\n",
    "\n",
    "    def calls(self):\n",
    "        print(\"calling\")\n",
    "        self.b1.discharging()\n",
    "\n",
    "    def netflix(self):\n",
    "        print(\"netflix\")\n",
    "        self.b1.discharging()\n",
    "\n",
    "    def PUBG(self):\n",
    "        print(\"PUBG\")\n",
    "        self.b1.discharging()\n",
    "\n",
    "    def plug_into_charge(self):\n",
    "        self.b1.charging()\n",
    "\n",
    "m1=mobile('apple',100000,'white',20)\n",
    "m1.calls()\n",
    "m1.netflix()\n",
    "m1.PUBG()\n",
    "m1.plug_into_charge()"
   ]
  },
  {
   "cell_type": "code",
   "execution_count": null,
   "metadata": {},
   "outputs": [],
   "source": []
  }
 ],
 "metadata": {
  "kernelspec": {
   "display_name": "Python 3",
   "language": "python",
   "name": "python3"
  },
  "language_info": {
   "codemirror_mode": {
    "name": "ipython",
    "version": 3
   },
   "file_extension": ".py",
   "mimetype": "text/x-python",
   "name": "python",
   "nbconvert_exporter": "python",
   "pygments_lexer": "ipython3",
   "version": "3.12.4"
  }
 },
 "nbformat": 4,
 "nbformat_minor": 2
}
