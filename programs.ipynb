{
 "cells": [
  {
   "cell_type": "markdown",
   "metadata": {},
   "source": [
    "### number series"
   ]
  },
  {
   "cell_type": "code",
   "execution_count": 16,
   "metadata": {},
   "outputs": [
    {
     "name": "stdout",
     "output_type": "stream",
     "text": [
      "2 3 "
     ]
    }
   ],
   "source": [
    "n=int(input())\n",
    "c=2\n",
    "\n",
    "\n",
    "p=0\n",
    "\n",
    "while True:\n",
    "    i=2\n",
    "    if i<=c//2:\n",
    "        r=0\n",
    "        if c%i==0:\n",
    "            r+=1\n",
    "            break\n",
    "        i+=1\n",
    "    \n",
    "    if r==0:\n",
    "        print(c,end=\" \")\n",
    "        p+=1\n",
    "    c+=1\n",
    "\n",
    "    if p==n:\n",
    "        break "
   ]
  },
  {
   "cell_type": "code",
   "execution_count": 12,
   "metadata": {},
   "outputs": [
    {
     "name": "stdout",
     "output_type": "stream",
     "text": [
      "10 is not prime\n"
     ]
    }
   ],
   "source": [
    "def prime(n):\n",
    "    if n<2:\n",
    "        return False\n",
    "    elif n==2:\n",
    "            return True\n",
    "    else:\n",
    "            for i in range(2,n//2+1):\n",
    "               if n%i==0:\n",
    "                  return False\n",
    "               return True\n",
    "n=int(input(\"n:\"))\n",
    "if prime(n):\n",
    "    print(f\"{n} is prime\")   \n",
    "else:\n",
    "    print(f\"{n} is not prime\")            "
   ]
  },
  {
   "cell_type": "markdown",
   "metadata": {},
   "source": [
    "###LCM"
   ]
  },
  {
   "cell_type": "code",
   "execution_count": 2,
   "metadata": {},
   "outputs": [
    {
     "name": "stdout",
     "output_type": "stream",
     "text": [
      "64\n"
     ]
    }
   ],
   "source": [
    "n1=int(input())\n",
    "n2=int(input())\n",
    "m1=max(n1,n2)\n",
    "m2=min(n1,n2)\n",
    "lcm=0\n",
    "p=0\n",
    "for i in range(1,m2+1):\n",
    "    p=i*m1\n",
    "    if p%n1==0 and p%n2==0:\n",
    "        lcm=p\n",
    "        break\n",
    "print(lcm)"
   ]
  },
  {
   "cell_type": "code",
   "execution_count": null,
   "metadata": {},
   "outputs": [
    {
     "ename": "TypeError",
     "evalue": "can only concatenate str (not \"int\") to str",
     "output_type": "error",
     "traceback": [
      "\u001b[1;31m---------------------------------------------------------------------------\u001b[0m",
      "\u001b[1;31mTypeError\u001b[0m                                 Traceback (most recent call last)",
      "Cell \u001b[1;32mIn[8], line 5\u001b[0m\n\u001b[0;32m      3\u001b[0m \u001b[38;5;28;01mfor\u001b[39;00m i \u001b[38;5;129;01min\u001b[39;00m \u001b[38;5;28mstr\u001b[39m(n):\n\u001b[0;32m      4\u001b[0m     fact\u001b[38;5;241m=\u001b[39m\u001b[38;5;241m0\u001b[39m\n\u001b[1;32m----> 5\u001b[0m     \u001b[38;5;28;01mfor\u001b[39;00m j \u001b[38;5;129;01min\u001b[39;00m \u001b[38;5;28mrange\u001b[39m(\u001b[38;5;241m1\u001b[39m,\u001b[43mi\u001b[49m\u001b[38;5;241;43m+\u001b[39;49m\u001b[38;5;241;43m1\u001b[39;49m):\n\u001b[0;32m      6\u001b[0m         fact\u001b[38;5;241m+\u001b[39m\u001b[38;5;241m=\u001b[39m\u001b[38;5;28mint\u001b[39m(i)\u001b[38;5;241m*\u001b[39m\u001b[38;5;28mint\u001b[39m(j)\n\u001b[0;32m      7\u001b[0m     \u001b[38;5;28msum\u001b[39m\u001b[38;5;241m+\u001b[39m\u001b[38;5;241m=\u001b[39mfact\n",
      "\u001b[1;31mTypeError\u001b[0m: can only concatenate str (not \"int\") to str"
     ]
    }
   ],
   "source": [
    "n=int(input())\n",
    "sum=0\n",
    "for i in str(n):\n",
    "    fact=0\n",
    "    for j in range(1,int(i)+1):\n",
    "        fact+=int(i)*int(j)\n",
    "    sum+=fact\n",
    "if sum==n:\n",
    "    print(\"STRONG\")\n",
    "else:\n",
    "    print(\"Not\")\n",
    "\n"
   ]
  },
  {
   "cell_type": "code",
   "execution_count": 7,
   "metadata": {},
   "outputs": [
    {
     "name": "stdout",
     "output_type": "stream",
     "text": [
      "Not\n"
     ]
    }
   ],
   "source": [
    "n=int(input())\n",
    "p=1\n",
    "sum=0\n",
    "for i in str(n):\n",
    "    sum+=int(i)**p\n",
    "    p+=1\n",
    "if sum==n:\n",
    "    print(\"Disarium\")\n",
    "else:\n",
    "    print(\"Not\")\n"
   ]
  },
  {
   "cell_type": "code",
   "execution_count": 5,
   "metadata": {},
   "outputs": [
    {
     "name": "stdout",
     "output_type": "stream",
     "text": [
      "1\n"
     ]
    }
   ],
   "source": [
    "n=int(input())\n",
    "while n>=10:\n",
    "    sum=0\n",
    "    while n>0:\n",
    "        sum+=n%10\n",
    "        n//=10\n",
    "    n=sum\n",
    "print(n)\n"
   ]
  }
 ],
 "metadata": {
  "kernelspec": {
   "display_name": "Python 3",
   "language": "python",
   "name": "python3"
  },
  "language_info": {
   "codemirror_mode": {
    "name": "ipython",
    "version": 3
   },
   "file_extension": ".py",
   "mimetype": "text/x-python",
   "name": "python",
   "nbconvert_exporter": "python",
   "pygments_lexer": "ipython3",
   "version": "3.12.4"
  }
 },
 "nbformat": 4,
 "nbformat_minor": 2
}
